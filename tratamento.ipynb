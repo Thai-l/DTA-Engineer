{
 "cells": [
  {
   "cell_type": "code",
   "execution_count": 1,
   "metadata": {},
   "outputs": [],
   "source": [
    "import pandas as pd\n",
    "from pyspark.sql import *\n",
    "from pyspark.sql.types import *"
   ]
  },
  {
   "cell_type": "code",
   "execution_count": 3,
   "metadata": {},
   "outputs": [],
   "source": [
    "spark = SparkSession.builder.appName(\"demo-app\").getOrCreate()"
   ]
  },
  {
   "cell_type": "code",
   "execution_count": 4,
   "metadata": {},
   "outputs": [],
   "source": [
    "csvFile2 = spark.read.csv('esconv.csv', header=True, sep=';', inferSchema=True)"
   ]
  },
  {
   "cell_type": "code",
   "execution_count": 9,
   "metadata": {},
   "outputs": [],
   "source": [
    "df3 = csvFile2.toDF(*(c.replace(',', '_') for c in csvFile2.columns))"
   ]
  },
  {
   "cell_type": "code",
   "execution_count": 13,
   "metadata": {},
   "outputs": [],
   "source": [
    "df4 = df3.toDF(*(c.replace(' ', '_') for c in df3.columns))"
   ]
  },
  {
   "cell_type": "code",
   "execution_count": 16,
   "metadata": {},
   "outputs": [],
   "source": [
    "df5 = df4.toDF(*(c.replace('(', '') for c in df4.columns))"
   ]
  },
  {
   "cell_type": "code",
   "execution_count": 19,
   "metadata": {},
   "outputs": [],
   "source": [
    "df6 = df5.toDF(*(c.replace(')', '') for c in df5.columns))"
   ]
  },
  {
   "cell_type": "code",
   "execution_count": 29,
   "metadata": {},
   "outputs": [],
   "source": [
    "df7 = df6.withColumnRenamed(\"CBO_Ocupa��o_2002\", \"cbo\")"
   ]
  },
  {
   "cell_type": "code",
   "execution_count": 34,
   "metadata": {},
   "outputs": [],
   "source": [
    "df7 = df7.withColumnRenamed(\"Faixa_Remun_M�dia_SM\", \"media_salario\")"
   ]
  },
  {
   "cell_type": "code",
   "execution_count": 38,
   "metadata": {},
   "outputs": [],
   "source": [
    "df7.write.saveAsTable(\"tra2\")"
   ]
  },
  {
   "cell_type": "code",
   "execution_count": 77,
   "metadata": {},
   "outputs": [
    {
     "data": {
      "text/plain": [
       "['Bairros_SP',\n",
       " 'Bairros_Fortaleza',\n",
       " 'Bairros_RJ',\n",
       " 'Causa_Afastamento_1',\n",
       " 'Causa_Afastamento_2',\n",
       " 'Causa_Afastamento_3',\n",
       " 'Motivo_Desligamento',\n",
       " 'cbo',\n",
       " 'CNAE_2.0_Classe',\n",
       " 'CNAE_95_Classe',\n",
       " 'Distritos_SP',\n",
       " 'V�nculo_Ativo_31/12',\n",
       " 'Faixa_Et�ria',\n",
       " 'Faixa_Hora_Contrat',\n",
       " 'Faixa_Remun_Dezem_SM',\n",
       " 'media_salario',\n",
       " 'Faixa_Tempo_Emprego',\n",
       " 'Escolaridade_ap�s_2005',\n",
       " 'Qtd_Hora_Contr',\n",
       " 'Idade',\n",
       " 'Ind_CEI_Vinculado',\n",
       " 'Ind_Simples',\n",
       " 'M�s_Admiss�o',\n",
       " 'M�s_Desligamento',\n",
       " 'Mun_Trab',\n",
       " 'Munic�pio',\n",
       " 'Nacionalidade',\n",
       " 'Natureza_Jur�dica',\n",
       " 'Ind_Portador_Defic',\n",
       " 'Qtd_Dias_Afastamento',\n",
       " 'Ra�a_Cor',\n",
       " 'Regi�es_Adm_DF',\n",
       " 'Vl_Remun_Dezembro_Nom',\n",
       " 'Vl_Remun.1_Dezembro.1_SM',\n",
       " 'Vl_Remun.2_M�dia.1_Nom',\n",
       " 'Vl.1_Remun.3_M�dia.2_SM',\n",
       " 'CNAE_2.0.1_Subclasse',\n",
       " 'Sexo_Trabalhador',\n",
       " 'Tamanho_Estabelecimento',\n",
       " 'Tempo_Emprego',\n",
       " 'Tipo_Admiss�o',\n",
       " 'Tipo_Estab41',\n",
       " 'Tipo_Estab42',\n",
       " 'Tipo.1_Defic',\n",
       " 'Tipo_V�nculo']"
      ]
     },
     "execution_count": 77,
     "metadata": {},
     "output_type": "execute_result"
    }
   ],
   "source": [
    "df7.columns"
   ]
  },
  {
   "cell_type": "code",
   "execution_count": 62,
   "metadata": {},
   "outputs": [
    {
     "name": "stdout",
     "output_type": "stream",
     "text": [
      "+----+------+-------------+\n",
      "|sexo|   cbo|media_salario|\n",
      "+----+------+-------------+\n",
      "|  02|212405|            9|\n",
      "|  02|212405|            6|\n",
      "|  02|212405|            4|\n",
      "|  02|212405|            9|\n",
      "|  02|212405|            8|\n",
      "|  02|212405|            4|\n",
      "|  02|212420|            3|\n",
      "|  02|212405|            5|\n",
      "|  02|212420|            4|\n",
      "|  02|212405|            2|\n",
      "|  02|212405|            2|\n",
      "|  02|212405|            4|\n",
      "|  02|212305|            4|\n",
      "|  02|212405|            8|\n",
      "|  02|212405|            6|\n",
      "|  02|212405|            8|\n",
      "|  02|212420|            2|\n",
      "|  02|212405|            9|\n",
      "|  02|212405|            8|\n",
      "|  02|212405|            7|\n",
      "+----+------+-------------+\n",
      "only showing top 20 rows\n",
      "\n"
     ]
    }
   ],
   "source": [
    "ttcsv = spark.sql(\"SELECT SUBSTR(Sexo_Trabalhador, 4, 2) AS sexo, cbo, media_salario FROM tra2 where SUBSTR(cbo, 1, 3) = 212 and SUBSTR(Sexo_Trabalhador, 4, 2) = '02' \")\n",
    "ttcsv.show()"
   ]
  },
  {
   "cell_type": "code",
   "execution_count": 70,
   "metadata": {},
   "outputs": [
    {
     "name": "stdout",
     "output_type": "stream",
     "text": [
      "+-----------------+\n",
      "|      media_homem|\n",
      "+-----------------+\n",
      "|6.590268886043534|\n",
      "+-----------------+\n",
      "\n"
     ]
    }
   ],
   "source": [
    "ttcsv = spark.sql(\"SELECT AVG(media_salario) as media_homem FROM tra2 where SUBSTR(cbo, 1, 3) = 212 and SUBSTR(Sexo_Trabalhador, 4, 2) = '01' \")\n",
    "ttcsv.show()"
   ]
  },
  {
   "cell_type": "code",
   "execution_count": 69,
   "metadata": {},
   "outputs": [
    {
     "name": "stdout",
     "output_type": "stream",
     "text": [
      "+-----------------+\n",
      "|     media_mulher|\n",
      "+-----------------+\n",
      "|7.003921568627451|\n",
      "+-----------------+\n",
      "\n"
     ]
    }
   ],
   "source": [
    "ttcsv = spark.sql(\"SELECT AVG(media_salario) as media_mulher FROM tra2 where SUBSTR(cbo, 1, 3) = 212 and SUBSTR(Sexo_Trabalhador, 4, 2) = '02' \")\n",
    "ttcsv.show()"
   ]
  },
  {
   "cell_type": "code",
   "execution_count": 78,
   "metadata": {},
   "outputs": [
    {
     "name": "stdout",
     "output_type": "stream",
     "text": [
      "+-------------+\n",
      "|media_salario|\n",
      "+-------------+\n",
      "|            7|\n",
      "|            6|\n",
      "+-------------+\n",
      "\n"
     ]
    }
   ],
   "source": [
    "ttcsv = spark.sql(\"SELECT SUBSTR(AVG(media_salario),1 ,1) as media_salario FROM tra2 where SUBSTR(cbo, 1, 3) = 212 and SUBSTR(Sexo_Trabalhador, 4, 2) = '02' UNION ALL SELECT SUBSTR(AVG(media_salario),1 ,1) as media_mulher FROM tra2 where SUBSTR(cbo, 1, 3) = 212 and SUBSTR(Sexo_Trabalhador, 4, 2) = '01' \")\n",
    "ttcsv.show()"
   ]
  },
  {
   "cell_type": "code",
   "execution_count": null,
   "metadata": {},
   "outputs": [],
   "source": []
  }
 ],
 "metadata": {
  "kernelspec": {
   "display_name": "Python 3",
   "language": "python",
   "name": "python3"
  },
  "language_info": {
   "codemirror_mode": {
    "name": "ipython",
    "version": 3
   },
   "file_extension": ".py",
   "mimetype": "text/x-python",
   "name": "python",
   "nbconvert_exporter": "python",
   "pygments_lexer": "ipython3",
   "version": "3.8.5"
  }
 },
 "nbformat": 4,
 "nbformat_minor": 4
}
