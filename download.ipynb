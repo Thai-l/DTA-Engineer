{
 "cells": [
  {
   "cell_type": "code",
   "execution_count": 9,
   "metadata": {},
   "outputs": [
    {
     "name": "stdout",
     "output_type": "stream",
     "text": [
      "downloado realizado RR2015.7z\n",
      "extração realizado RR2015.7z\n",
      "arquivo baixado e extraido com sucesso!!!\n"
     ]
    }
   ],
   "source": [
    "from ftplib import FTP\n",
    "import py7zr\n",
    "\n",
    "filename = 'RR2015.7z'\n",
    "with FTP('ftp.mtps.gov.br') as ftp:\n",
    "    ftp.login()\n",
    "    ftp.cwd('pdet/microdados/RAIS/2015')\n",
    "    try:\n",
    "        ftp.retrbinary(\"RETR \" + filename, open(filename, 'wb').write)\n",
    "        ftp.quit()\n",
    "        print('downloado realizado',filename)\n",
    "        try:\n",
    "            with py7zr.SevenZipFile(filename, mode='r') as z:\n",
    "                z.extractall()\n",
    "                print('extração realizado',filename)\n",
    "        except:\n",
    "            print('falha ao extrair o arquivo')\n",
    "    except:\n",
    "        print('falha no download')\n",
    "print('arquivo baixado e extraido com sucesso!!!')\n"
   ]
  },
  {
   "cell_type": "code",
   "execution_count": 5,
   "metadata": {},
   "outputs": [],
   "source": [
    "\n"
   ]
  },
  {
   "cell_type": "code",
   "execution_count": null,
   "metadata": {},
   "outputs": [],
   "source": []
  }
 ],
 "metadata": {
  "kernelspec": {
   "display_name": "Python 3",
   "language": "python",
   "name": "python3"
  },
  "language_info": {
   "codemirror_mode": {
    "name": "ipython",
    "version": 3
   },
   "file_extension": ".py",
   "mimetype": "text/x-python",
   "name": "python",
   "nbconvert_exporter": "python",
   "pygments_lexer": "ipython3",
   "version": "3.8.5"
  }
 },
 "nbformat": 4,
 "nbformat_minor": 4
}
